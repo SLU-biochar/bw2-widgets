{
 "cells": [
  {
   "cell_type": "code",
   "execution_count": 94,
   "id": "94659058",
   "metadata": {},
   "outputs": [],
   "source": [
    "import numpy as np\n",
    "import pandas as pd\n",
    "from os.path import isfile \n",
    "\n",
    "import brightway2 as bw2\n",
    "from bw2data.parameters import ActivityParameter, ProjectParameter, DatabaseParameter, Group\n",
    "\n",
    "from contributionAnalysis import * \n",
    "\n",
    "import lca_algebraic as la"
   ]
  },
  {
   "cell_type": "code",
   "execution_count": 95,
   "id": "91db6db8",
   "metadata": {},
   "outputs": [
    {
     "name": "stdout",
     "output_type": "stream",
     "text": [
      "Project already exists.\n",
      "Database has already been imported.\n"
     ]
    },
    {
     "data": {
      "text/plain": [
       "Databases dictionary with 3 object(s):\n",
       "\tbiosphere3\n",
       "\tei38_cutoff\n",
       "\tforeground"
      ]
     },
     "execution_count": 95,
     "metadata": {},
     "output_type": "execute_result"
    }
   ],
   "source": [
    "# create a new bw2 project & load ecoinvent data in it\n",
    "if \"demo4contest\" not in bw2.projects:\n",
    "    bw2.projects.create_project(\"demo4contest\")\n",
    "    bw2.bw2setup()\n",
    "else:\n",
    "    print(\"Project already exists.\")\n",
    "    bw2.projects.set_current(\"demo4contest\")\n",
    "    \n",
    "#ecoinvent\n",
    "if 'ei38_cutoff' in bw2.databases:\n",
    "    print(\"Database has already been imported.\")\n",
    "else:\n",
    "    # mind that the ecoinvent file must be unzipped; then: path to the datasets subfolder\n",
    "    fpei = r\"C:\\Users\\Elias S. Azzi\\Downloads\\ecoinvent 3.8_cutoff_ecoSpold02\\datasets\"\n",
    "    # the \"r\" makes sure that the path is read as a string - especially useful when you have spaces in your string\n",
    "    ei = bw2.SingleOutputEcospold2Importer(fpei, 'ei38_cutoff')\n",
    "    ei.apply_strategies()\n",
    "    ei.statistics()\n",
    "    ei.write_database()\n",
    "bw2.databases"
   ]
  },
  {
   "cell_type": "code",
   "execution_count": 96,
   "id": "e468d5b6",
   "metadata": {},
   "outputs": [
    {
     "name": "stderr",
     "output_type": "stream",
     "text": [
      "Db foreground was here. Reseting it\n",
      "Warning : param 'p_a' linked to root project instead of a specific DB\n",
      "[ParamRegistry] Param p_a was already defined in '<project>' : overriding.\n",
      "Warning : param 'p_b' linked to root project instead of a specific DB\n",
      "[ParamRegistry] Param p_b was already defined in '<project>' : overriding.\n",
      "Warning : param 'p_be' linked to root project instead of a specific DB\n",
      "[ParamRegistry] Param p_be was already defined in '<project>' : overriding.\n",
      "Warning : param 'p_cem' linked to root project instead of a specific DB\n",
      "[ParamRegistry] Param p_cem was already defined in '<project>' : overriding.\n",
      "Warning : param 'p_c' linked to root project instead of a specific DB\n",
      "[ParamRegistry] Param p_c was already defined in '<project>' : overriding.\n",
      "Warning : param 'p_e' linked to root project instead of a specific DB\n",
      "[ParamRegistry] Param p_e was already defined in '<project>' : overriding.\n",
      "Warning : param 'p_ee' linked to root project instead of a specific DB\n",
      "[ParamRegistry] Param p_ee was already defined in '<project>' : overriding.\n",
      "Warning : param 'p_f' linked to root project instead of a specific DB\n",
      "[ParamRegistry] Param p_f was already defined in '<project>' : overriding.\n",
      "Warning : param 'p_d' linked to root project instead of a specific DB\n",
      "[ParamRegistry] Param p_d was already defined in '<project>' : overriding.\n",
      "Warning : param 'p_el' linked to root project instead of a specific DB\n",
      "[ParamRegistry] Param p_el was already defined in '<project>' : overriding.\n",
      "Warning : param 'p_al' linked to root project instead of a specific DB\n",
      "[ParamRegistry] Param p_al was already defined in '<project>' : overriding.\n"
     ]
    }
   ],
   "source": [
    "# develop a parametrized LCA model (here a random quick example is made, but you can do your own the way you like)\n",
    "USER_DB = 'foreground'\n",
    "la.resetDb(USER_DB)\n",
    "la.setForeground('foreground')\n",
    "\n",
    "#some parameters\n",
    "a = la.newFloatParam('p_a', default=0.5, min=0.2, max=2, description=\"hello world\")\n",
    "b1 = la.newFloatParam('p_b', default=0.5, min=0.2, max=2, description=\"foo bar\")\n",
    "b2 = la.newFloatParam('p_be', default=0.5, min=0.2, max=2, description=\"foo bar\")\n",
    "cem = la.newFloatParam('p_cem', default=0.5, min=0.2, max=2, description=\"foo bar\")\n",
    "c = la.newFloatParam('p_c', default=0.5, min=0.2, max=2, description=\"foo bar\")\n",
    "e1 = la.newFloatParam('p_e', default=0.5, min=0.2, max=2, description=\"foo bar\")\n",
    "e2 = la.newFloatParam('p_ee', default=0.5, min=0.2, max=2, description=\"foo bar\")\n",
    "f = la.newFloatParam('p_f', default=0.5, min=0.2, max=2, description=\"foo bar\")\n",
    "d = la.newFloatParam('p_d', default=0.5, min=0.2, max=2, description=\"foo bar\")\n",
    "el = la.newFloatParam('p_el', default=0.5, min=0.2, max=2, description=\"foo bar\")\n",
    "al = la.newFloatParam('p_al', default=0.5, min=0.2, max=2, description=\"foo bar\")\n",
    "\n",
    "# some background inputs\n",
    "alu = la.findTechAct(\"aluminium alloy production, AlMg3\", loc=\"RER\")\n",
    "elec = la.findTechAct(\"market for electricity, high voltage\", loc=\"SE\")\n",
    "cement = la.findTechAct(\"market for cement, Portland\", loc=\"Europe without Switzerland\")\n",
    "transport = la.findTechAct(\"transport, freight, lorry, all sizes, EURO5 to generic market for transport, freight, lorry, unspecified\", loc=\"RER\")\n",
    "\n",
    "# some foreground activities\n",
    "F = la.newActivity(USER_DB, \"F\", 'ton*km', {transport:1})\n",
    "E = la.newActivity(USER_DB, \"E\", 'ton*km', {transport:1})\n",
    "D = la.newActivity(USER_DB, \"D\", 'ton*km', {transport:1})\n",
    "C = la.newActivity(USER_DB, \"C\", 'ton*km', {\n",
    "    D:d,\n",
    "    elec:el,\n",
    "})\n",
    "B = la.newActivity(USER_DB, \"B\", 'ton*km', {\n",
    "    F:f,\n",
    "    alu:al,\n",
    "})\n",
    "A = la.newActivity(USER_DB, \"A\", 'ton*km', {\n",
    "    E:e1*e2,\n",
    "    cement:cem,\n",
    "    C:c,\n",
    "})\n",
    "FU = la.newActivity(USER_DB, \"FU\", 'magic', {\n",
    "    A:a,\n",
    "    B:b1*10+b2,\n",
    "})"
   ]
  },
  {
   "cell_type": "markdown",
   "id": "5e087451",
   "metadata": {},
   "source": [
    "The code above craetes the following LCA model (image generated from graph explorer in Activity-browser):\n",
    "\n",
    "![graph view](demo4contest.png)"
   ]
  },
  {
   "cell_type": "code",
   "execution_count": 97,
   "id": "ad077425",
   "metadata": {},
   "outputs": [],
   "source": [
    "# define some contribution groups that make sense for the analysis\n",
    "A['group']=\"Step Alpha\"\n",
    "A.save()\n",
    "D['group']=\"All transport\"\n",
    "D.save()\n",
    "E['group']=\"All transport\"\n",
    "E.save()\n",
    "F['group']=\"All transport\"\n",
    "F.save()\n",
    "C['group']=\"Step Gamma\"\n",
    "C.save()\n",
    "B['group']=\"Step Beta\"\n",
    "B.save()"
   ]
  },
  {
   "cell_type": "markdown",
   "id": "588be900",
   "metadata": {},
   "source": [
    "The grouping tags applied in the cell above correspond to grouping the emissions as shown in the (rudimentary) image below: \n",
    "\n",
    "![graph view](demo4contest_groupped.png)"
   ]
  },
  {
   "cell_type": "code",
   "execution_count": 98,
   "id": "d1f404ed",
   "metadata": {},
   "outputs": [],
   "source": [
    "# setup your LCA calculation\n",
    "fus = [{FU:1},] # a list of fu dict\n",
    "fus_prettyNames = ['FU']\n",
    "IPCC = [method for method in bw2.methods if \"IPCC 2013\" in str(method) \n",
    "        and \"GWP 100\" in str(method) \n",
    "        and \"LT\" not in str(method)\n",
    "        and \"V1\" not in str(method)] # a list of tuples (tuple refering to a bw2 impact assessment metric)\n",
    "\n",
    "label = 'group'\n",
    "default_tag = 'other' # in case an activity is uncategorized\n",
    "bio2tech = True\n",
    "parent4other = True\n",
    "contribution_oder = ['Step Alpha', 'Step Beta', 'Step Gamma', 'All transport', 'other']\n",
    "\n",
    "prefix = [] # prefix of switch parameters, defined manually in project, if any (Not used here in demo)\n",
    "alternatives = {} # parameter data for switch parameters, if any (Not used here in demo)\n",
    "\n",
    "afp = r'C:\\github\\bw2-widgets\\html_export' # where to export\n",
    "widget_name=\"widget_waterfall_demo4contest\" # name of widget\n",
    "\n",
    "#setupProject4Widget(\"demo4contest\", USER_DB)"
   ]
  },
  {
   "cell_type": "code",
   "execution_count": 99,
   "id": "c2f94f43",
   "metadata": {
    "scrolled": true
   },
   "outputs": [
    {
     "name": "stdout",
     "output_type": "stream",
     "text": [
      "The contributions present in the graphs are: \n",
      "{'Step Gamma', 'Step Beta', 'All transport', 'other', 'Step Alpha'}\n",
      "Contributions re-ordered for: 'FU' (magic, GLO, None)\n"
     ]
    }
   ],
   "source": [
    "# generate algebraic expressions & parameter data\n",
    "all_graphs = runAlgebraicGraphTraversal(fus = fus, # a list of fu dict \n",
    "                           methods =IPCC, # a list\n",
    "                           label = label, # a string\n",
    "                           default_tag = default_tag, # a string\n",
    "                           fg_databases = [USER_DB], # a list of 1 foreground db\n",
    "                           bio2tech = bio2tech, # usually, True\n",
    "                           parent4other = parent4other) # usually, True\n",
    "print(\"The contributions present in the graphs are: \")\n",
    "contribExisting = []\n",
    "for fu, graphs in all_graphs.items():\n",
    "    contribExisting += list(graphs['agg_graph'].keys())\n",
    "print(set(contribExisting))\n",
    "\n",
    "# re-order contributions according to contribution_order\n",
    "for fu, graphs in all_graphs.items():\n",
    "    all_graphs[fu]['agg_graph'] = reorderContributions(all_graphs[fu]['agg_graph'], contribution_oder)\n",
    "    print(\"Contributions re-ordered for: %s\" % (fu))\n",
    "    "
   ]
  },
  {
   "cell_type": "code",
   "execution_count": 100,
   "id": "9c56a8f7",
   "metadata": {
    "scrolled": true
   },
   "outputs": [
    {
     "name": "stdout",
     "output_type": "stream",
     "text": [
      "Data of parameters was written to the Excel file \n",
      "\n",
      "C:\\github\\bw2-widgets\\html_export\\widget_waterfall_demo4contest_params.xlsx \n",
      "\n",
      "Proceed with: dupplicating this Excel file, and rename it with the suffix '_prettified'. \n",
      "The prettified Excel file is never overwritten or edited by the scripts here. If it exists, it will be loaded in the next step. This is to avoid overwriting by mistake data entered manually in Excel.\n",
      "\n",
      "In the prettified Excel, you must not edit the column 'name' but you can edit the field `min`, `max`, `Description`. You can also add the columns `prettyName` and `unit`\n"
     ]
    }
   ],
   "source": [
    "# saving the parameter data in an Excel file... to be made prettier\n",
    "all_Symbols = []\n",
    "for fu, graphs in all_graphs.items():\n",
    "    all_Symbols += getAllSymbols(all_graphs[fu]['agg_graph']) # concat of lists += getAllSymbols returning a list\n",
    "all_Symbols = list(set(all_Symbols)) # all parameters, even if several fus analysed\n",
    "df = getParamsFromSymbols(all_Symbols)\n",
    "jstr_paraminit = genJSvariables(df) # placed here, before df = getSwitchParams\n",
    "df = getSwitchParams(df, prefix, alternatives) # remove from df the switch parameters, replace them by a single generic term\n",
    "df = df.drop(['group', 'label'], axis=1)\n",
    "jsstr_switchparam = str(alternatives)\n",
    "df.to_excel(afp+'\\\\'+widget_name+'_params.xlsx')\n",
    "print(\"Data of parameters was written to the Excel file \\n\")\n",
    "print(afp+'\\\\'+widget_name+'_params.xlsx \\n')\n",
    "print(\"Proceed with: dupplicating this Excel file, and rename it with the suffix '_prettified'. \\nThe prettified Excel file is never overwritten or edited by the scripts here. If it exists, it will be loaded in the next step. This is to avoid overwriting by mistake data entered manually in Excel.\\n\")\n",
    "print(\"In the prettified Excel, you must not edit the column 'name' but you can edit the field `min`, `max`, `Description`. You can also add the columns `prettyName` and `unit`\")"
   ]
  },
  {
   "cell_type": "code",
   "execution_count": 101,
   "id": "95d8bb70",
   "metadata": {},
   "outputs": [],
   "source": [
    "# manually edit the excel file to refine parameter data, give names and units that will be displayed"
   ]
  },
  {
   "cell_type": "code",
   "execution_count": 103,
   "id": "99ab6d1b",
   "metadata": {},
   "outputs": [
    {
     "name": "stdout",
     "output_type": "stream",
     "text": [
      "File created in: C:\\github\\bw2-widgets\\html_export\\widget_waterfall_demo4contest.js\n",
      "Load this file in an html demo page\n"
     ]
    }
   ],
   "source": [
    "# finally export the js widget\n",
    "if(isfile(afp+'\\\\'+widget_name+'_params_prettified.xlsx')):\n",
    "    # if a prettified version exist, we take that one\n",
    "    df2 = pd.read_excel(afp+'\\\\'+widget_name+'_params_prettified.xlsx', index_col=0).fillna('')\n",
    "jsstr_param = str(df2.to_dict())\n",
    "\n",
    "jstr_algeabraicfuncs = ''\n",
    "for i, (fu, graphs) in enumerate(all_graphs.items()):\n",
    "    # hack: remove [ ] around each contribution if 1 element only (1 impact category)\n",
    "    for key, values in graphs['agg_graph'].items():\n",
    "        if(isinstance(values, list)):\n",
    "            if(len(values)>1):\n",
    "                    print(\"Warning: multiple impact categories calculated, but only first one kept for plugin as not yet supported graphs\")\n",
    "            graphs['agg_graph'][key] = values[0]    \n",
    "    # add group-series pretty name\n",
    "    graphs['agg_graph']['group']=fus_prettyNames[i]\n",
    "    jstr_algeabraicfuncs += str(graphs['agg_graph'])+', '\n",
    "    \n",
    "write_widget(afp+'\\\\'+widget_name+'.js', jsstr_param, jsstr_switchparam, jstr_paraminit, jstr_algeabraicfuncs)\n",
    "print(\"Load this file in an html demo page\")"
   ]
  },
  {
   "cell_type": "markdown",
   "id": "70c14245",
   "metadata": {},
   "source": [
    "Note: be mindful of the end-user license agreements of the databases used (e.g. ecoinvent) before sharing such widgets externally.."
   ]
  }
 ],
 "metadata": {
  "kernelspec": {
   "display_name": "Python 3 (ipykernel)",
   "language": "python",
   "name": "python3"
  },
  "language_info": {
   "codemirror_mode": {
    "name": "ipython",
    "version": 3
   },
   "file_extension": ".py",
   "mimetype": "text/x-python",
   "name": "python",
   "nbconvert_exporter": "python",
   "pygments_lexer": "ipython3",
   "version": "3.9.13"
  },
  "toc": {
   "base_numbering": 1,
   "nav_menu": {},
   "number_sections": true,
   "sideBar": true,
   "skip_h1_title": false,
   "title_cell": "Table of Contents",
   "title_sidebar": "Contents",
   "toc_cell": false,
   "toc_position": {},
   "toc_section_display": true,
   "toc_window_display": false
  }
 },
 "nbformat": 4,
 "nbformat_minor": 5
}

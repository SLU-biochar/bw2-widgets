{
 "cells": [
  {
   "cell_type": "code",
   "execution_count": 2,
   "id": "94659058",
   "metadata": {},
   "outputs": [
    {
     "ename": "ModuleNotFoundError",
     "evalue": "No module named 'lca_algebraic'",
     "output_type": "error",
     "traceback": [
      "\u001b[1;31m---------------------------------------------------------------------------\u001b[0m",
      "\u001b[1;31mModuleNotFoundError\u001b[0m                       Traceback (most recent call last)",
      "Cell \u001b[1;32mIn [2], line 8\u001b[0m\n\u001b[0;32m      5\u001b[0m \u001b[38;5;28;01mimport\u001b[39;00m \u001b[38;5;21;01mbrightway2\u001b[39;00m \u001b[38;5;28;01mas\u001b[39;00m \u001b[38;5;21;01mbw2\u001b[39;00m\n\u001b[0;32m      6\u001b[0m \u001b[38;5;28;01mfrom\u001b[39;00m \u001b[38;5;21;01mbw2data\u001b[39;00m\u001b[38;5;21;01m.\u001b[39;00m\u001b[38;5;21;01mparameters\u001b[39;00m \u001b[38;5;28;01mimport\u001b[39;00m ActivityParameter, ProjectParameter, DatabaseParameter, Group\n\u001b[1;32m----> 8\u001b[0m \u001b[38;5;28;01mfrom\u001b[39;00m \u001b[38;5;21;01mcontributionAnalysis\u001b[39;00m \u001b[38;5;28;01mimport\u001b[39;00m \u001b[38;5;241m*\u001b[39m \n\u001b[0;32m     10\u001b[0m \u001b[38;5;28;01mimport\u001b[39;00m \u001b[38;5;21;01mlca_algebraic\u001b[39;00m \u001b[38;5;28;01mas\u001b[39;00m \u001b[38;5;21;01mla\u001b[39;00m\n\u001b[0;32m     12\u001b[0m get_ipython()\u001b[38;5;241m.\u001b[39mrun_line_magic(\u001b[38;5;124m'\u001b[39m\u001b[38;5;124mload_ext\u001b[39m\u001b[38;5;124m'\u001b[39m, \u001b[38;5;124m'\u001b[39m\u001b[38;5;124mautoreload\u001b[39m\u001b[38;5;124m'\u001b[39m)\n",
      "File \u001b[1;32mC:\\github\\bw2-widgets\\contributionAnalysis.py:3\u001b[0m\n\u001b[0;32m      1\u001b[0m \u001b[38;5;28;01mimport\u001b[39;00m \u001b[38;5;21;01mbrightway2\u001b[39;00m \u001b[38;5;28;01mas\u001b[39;00m \u001b[38;5;21;01mbw2\u001b[39;00m\n\u001b[0;32m      2\u001b[0m \u001b[38;5;28;01mfrom\u001b[39;00m \u001b[38;5;21;01mbw2data\u001b[39;00m\u001b[38;5;21;01m.\u001b[39;00m\u001b[38;5;21;01mparameters\u001b[39;00m \u001b[38;5;28;01mimport\u001b[39;00m ActivityParameter, ProjectParameter, DatabaseParameter, Group\n\u001b[1;32m----> 3\u001b[0m \u001b[38;5;28;01mimport\u001b[39;00m \u001b[38;5;21;01mlca_algebraic\u001b[39;00m \u001b[38;5;28;01mas\u001b[39;00m \u001b[38;5;21;01mla\u001b[39;00m\n\u001b[0;32m      4\u001b[0m \u001b[38;5;28;01mfrom\u001b[39;00m \u001b[38;5;21;01msympy\u001b[39;00m\u001b[38;5;21;01m.\u001b[39;00m\u001b[38;5;21;01mparsing\u001b[39;00m\u001b[38;5;21;01m.\u001b[39;00m\u001b[38;5;21;01msympy_parser\u001b[39;00m \u001b[38;5;28;01mimport\u001b[39;00m parse_expr\n\u001b[0;32m      5\u001b[0m \u001b[38;5;28;01mfrom\u001b[39;00m \u001b[38;5;21;01mcollections\u001b[39;00m \u001b[38;5;28;01mimport\u001b[39;00m defaultdict, OrderedDict\n",
      "\u001b[1;31mModuleNotFoundError\u001b[0m: No module named 'lca_algebraic'"
     ]
    }
   ],
   "source": [
    "import numpy as np\n",
    "import pandas as pd\n",
    "from os.path import isfile \n",
    "\n",
    "import brightway2 as bw2\n",
    "from bw2data.parameters import ActivityParameter, ProjectParameter, DatabaseParameter, Group\n",
    "\n",
    "from contributionAnalysis import * \n",
    "\n",
    "import lca_algebraic as la\n",
    "\n",
    "%load_ext autoreload\n",
    "%autoreload 2"
   ]
  },
  {
   "cell_type": "code",
   "execution_count": 3,
   "id": "91db6db8",
   "metadata": {},
   "outputs": [],
   "source": [
    "# create a new bw2 project & load ecoinvent data in it"
   ]
  },
  {
   "cell_type": "code",
   "execution_count": 4,
   "id": "e468d5b6",
   "metadata": {},
   "outputs": [],
   "source": [
    "# develop a parametrized LCA model"
   ]
  },
  {
   "cell_type": "code",
   "execution_count": 5,
   "id": "ad077425",
   "metadata": {},
   "outputs": [],
   "source": [
    "# define some contribution groups that make sense for the analysis"
   ]
  },
  {
   "cell_type": "code",
   "execution_count": 6,
   "id": "f57bab27",
   "metadata": {},
   "outputs": [],
   "source": [
    "# setup some parameters for bw2widget"
   ]
  },
  {
   "cell_type": "code",
   "execution_count": 7,
   "id": "c2f94f43",
   "metadata": {},
   "outputs": [],
   "source": [
    "# generate algebraic expressions & parameter data"
   ]
  },
  {
   "cell_type": "code",
   "execution_count": 8,
   "id": "95d8bb70",
   "metadata": {},
   "outputs": [],
   "source": [
    "# manually edit the excel file to refine parameter data, if needed"
   ]
  },
  {
   "cell_type": "code",
   "execution_count": 9,
   "id": "99ab6d1b",
   "metadata": {},
   "outputs": [],
   "source": [
    "# export widget"
   ]
  },
  {
   "cell_type": "code",
   "execution_count": null,
   "id": "64e30407",
   "metadata": {},
   "outputs": [],
   "source": []
  }
 ],
 "metadata": {
  "kernelspec": {
   "display_name": "Python 3 (ipykernel)",
   "language": "python",
   "name": "python3"
  },
  "language_info": {
   "codemirror_mode": {
    "name": "ipython",
    "version": 3
   },
   "file_extension": ".py",
   "mimetype": "text/x-python",
   "name": "python",
   "nbconvert_exporter": "python",
   "pygments_lexer": "ipython3",
   "version": "3.9.13"
  },
  "toc": {
   "base_numbering": 1,
   "nav_menu": {},
   "number_sections": true,
   "sideBar": true,
   "skip_h1_title": false,
   "title_cell": "Table of Contents",
   "title_sidebar": "Contents",
   "toc_cell": false,
   "toc_position": {},
   "toc_section_display": true,
   "toc_window_display": false
  }
 },
 "nbformat": 4,
 "nbformat_minor": 5
}
